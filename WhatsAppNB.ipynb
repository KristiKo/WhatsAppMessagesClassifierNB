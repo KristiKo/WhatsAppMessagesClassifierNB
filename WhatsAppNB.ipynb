{
 "cells": [
  {
   "cell_type": "code",
   "execution_count": 1,
   "metadata": {},
   "outputs": [],
   "source": [
    "%matplotlib inline\n",
    "import numpy as np\n",
    "import pandas as pd\n",
    "from pandas import DataFrame\n",
    "from sklearn.feature_extraction.text import CountVectorizer\n",
    "from sklearn.naive_bayes import MultinomialNB\n",
    "\n",
    "\n"
   ]
  },
  {
   "cell_type": "code",
   "execution_count": 2,
   "metadata": {},
   "outputs": [
    {
     "data": {
      "text/html": [
       "<div>\n",
       "<style scoped>\n",
       "    .dataframe tbody tr th:only-of-type {\n",
       "        vertical-align: middle;\n",
       "    }\n",
       "\n",
       "    .dataframe tbody tr th {\n",
       "        vertical-align: top;\n",
       "    }\n",
       "\n",
       "    .dataframe thead th {\n",
       "        text-align: right;\n",
       "    }\n",
       "</style>\n",
       "<table border=\"1\" class=\"dataframe\">\n",
       "  <thead>\n",
       "    <tr style=\"text-align: right;\">\n",
       "      <th></th>\n",
       "      <th>class</th>\n",
       "      <th>message</th>\n",
       "    </tr>\n",
       "  </thead>\n",
       "  <tbody>\n",
       "    <tr>\n",
       "      <th>0</th>\n",
       "      <td>krystyna</td>\n",
       "      <td>Can we create code for vebinar? Remember, you ...</td>\n",
       "    </tr>\n",
       "    <tr>\n",
       "      <th>1</th>\n",
       "      <td>krystyna</td>\n",
       "      <td>Because I say check the link below. There shou...</td>\n",
       "    </tr>\n",
       "    <tr>\n",
       "      <th>2</th>\n",
       "      <td>krystyna</td>\n",
       "      <td>The earliest I can be is 5:30, but I can’t run...</td>\n",
       "    </tr>\n",
       "    <tr>\n",
       "      <th>3</th>\n",
       "      <td>krystyna</td>\n",
       "      <td>I I new I would take another shoes</td>\n",
       "    </tr>\n",
       "    <tr>\n",
       "      <th>4</th>\n",
       "      <td>krystyna</td>\n",
       "      <td>But from tomorrow we run together as well</td>\n",
       "    </tr>\n",
       "  </tbody>\n",
       "</table>\n",
       "</div>"
      ],
      "text/plain": [
       "      class                                            message\n",
       "0  krystyna  Can we create code for vebinar? Remember, you ...\n",
       "1  krystyna  Because I say check the link below. There shou...\n",
       "2  krystyna  The earliest I can be is 5:30, but I can’t run...\n",
       "3  krystyna                 I I new I would take another shoes\n",
       "4  krystyna          But from tomorrow we run together as well"
      ]
     },
     "execution_count": 2,
     "metadata": {},
     "output_type": "execute_result"
    }
   ],
   "source": [
    "df1 = pd.read_csv(\"krystyna.csv\")\n",
    "df1.head()"
   ]
  },
  {
   "cell_type": "code",
   "execution_count": 3,
   "metadata": {},
   "outputs": [
    {
     "data": {
      "text/html": [
       "<div>\n",
       "<style scoped>\n",
       "    .dataframe tbody tr th:only-of-type {\n",
       "        vertical-align: middle;\n",
       "    }\n",
       "\n",
       "    .dataframe tbody tr th {\n",
       "        vertical-align: top;\n",
       "    }\n",
       "\n",
       "    .dataframe thead th {\n",
       "        text-align: right;\n",
       "    }\n",
       "</style>\n",
       "<table border=\"1\" class=\"dataframe\">\n",
       "  <thead>\n",
       "    <tr style=\"text-align: right;\">\n",
       "      <th></th>\n",
       "      <th>class</th>\n",
       "      <th>message</th>\n",
       "    </tr>\n",
       "  </thead>\n",
       "  <tbody>\n",
       "    <tr>\n",
       "      <th>0</th>\n",
       "      <td>matteo</td>\n",
       "      <td>If you’re talking about coding a webinar platf...</td>\n",
       "    </tr>\n",
       "    <tr>\n",
       "      <th>1</th>\n",
       "      <td>matteo</td>\n",
       "      <td>Why you don’t upload your video?</td>\n",
       "    </tr>\n",
       "    <tr>\n",
       "      <th>2</th>\n",
       "      <td>matteo</td>\n",
       "      <td>Mhhh ok next time then because later will rain</td>\n",
       "    </tr>\n",
       "    <tr>\n",
       "      <th>3</th>\n",
       "      <td>matteo</td>\n",
       "      <td>Be at my place at 5:30 max and we go together</td>\n",
       "    </tr>\n",
       "    <tr>\n",
       "      <th>4</th>\n",
       "      <td>matteo</td>\n",
       "      <td>Doctor Matt is going out now🚲</td>\n",
       "    </tr>\n",
       "  </tbody>\n",
       "</table>\n",
       "</div>"
      ],
      "text/plain": [
       "    class                                            message\n",
       "0  matteo  If you’re talking about coding a webinar platf...\n",
       "1  matteo                   Why you don’t upload your video?\n",
       "2  matteo     Mhhh ok next time then because later will rain\n",
       "3  matteo      Be at my place at 5:30 max and we go together\n",
       "4  matteo                      Doctor Matt is going out now🚲"
      ]
     },
     "execution_count": 3,
     "metadata": {},
     "output_type": "execute_result"
    }
   ],
   "source": [
    "df2 = pd.read_csv(\"matteo.csv\")\n",
    "df2.head()"
   ]
  },
  {
   "cell_type": "code",
   "execution_count": 4,
   "metadata": {},
   "outputs": [
    {
     "name": "stdout",
     "output_type": "stream",
     "text": [
      "       class                                            message\n",
      "0   krystyna  Can we create code for vebinar? Remember, you ...\n",
      "1   krystyna  Because I say check the link below. There shou...\n",
      "2   krystyna  The earliest I can be is 5:30, but I can’t run...\n",
      "3   krystyna                 I I new I would take another shoes\n",
      "4   krystyna          But from tomorrow we run together as well\n",
      "5   krystyna  Super happy for you!\\nFinally you are influenc...\n",
      "6   krystyna  Everything is closed, isn’t it? Do you have an...\n",
      "7   krystyna              I ran as well :) weather is beautiful\n",
      "8   krystyna  I thought to take laptop as I didn’t do anythi...\n",
      "9   krystyna                               Can we go out today?\n",
      "10  krystyna                    Can you ask Gemma and Giovanni?\n",
      "11  krystyna          She cant work on public holidays can she?\n",
      "12  krystyna  Can you talk to Yu Tin? She doesn't have any e...\n",
      "13  krystyna  I have one more thing to talk about. There is ...\n",
      "14  krystyna                   Do you know anyone with the car?\n",
      "15  krystyna                                    safari longleat\n",
      "16  krystyna  I am not a dog to come and go at your convenience\n",
      "17  krystyna     If my phone is dead I will be waiting in Costa\n",
      "18  krystyna                         Is marquis waiting for me?\n",
      "19  krystyna        And God’s servant Matteo was dying in pain…\n",
      "20  krystyna                  I finished courses and programmes\n",
      "21  krystyna                                you will be alright\n",
      "22  krystyna                               you are a strong guy\n",
      "23  krystyna  for this photo and update an address in course...\n",
      "24  krystyna                          write a post on instagram\n",
      "25  krystyna  we have some troubles.... It looks like we are...\n",
      "26  krystyna                   No worries. Can happen to anyone\n",
      "27  krystyna                You are much more patient with me 😉\n",
      "28  krystyna                              I am downloading them\n",
      "29  krystyna                                 first page updated\n",
      "..       ...                                                ...\n",
      "3     matteo      Be at my place at 5:30 max and we go together\n",
      "4     matteo                      Doctor Matt is going out now🚲\n",
      "5     matteo  I still need to go to Lidl and shower but it’l...\n",
      "6     matteo  Okay take your laptop and come here. We can go...\n",
      "7     matteo  I’ll go for a run and then to grocery then I’m...\n",
      "8     matteo                 Also are you calling the Albanian?\n",
      "9     matteo   I’ve checked and there’s no train back on Sunday\n",
      "10    matteo           Actually this is the fastest without car\n",
      "11    matteo                  Mhhh I think we need to go by car\n",
      "12    matteo                                 Nah I’m still here\n",
      "13    matteo                       Im updating the database now\n",
      "14    matteo      Remember me as a playful guy who loved eating\n",
      "15    matteo  And I also found a tool to do remote pair prog...\n",
      "16    matteo  So far we only have 1 source of traffic which ...\n",
      "17    matteo  I want to come up with a plan to actually use ...\n",
      "18    matteo  You’re amazing. Sorry again for the extra work...\n",
      "19    matteo  On Friday I’ll explain my thesis on some chang...\n",
      "20    matteo     Did you store those image also on your laptop?\n",
      "21    matteo          Looks like the beginning of a porn movie!\n",
      "22    matteo  But don’t worry too much. Only the front page,...\n",
      "23    matteo  You don’t need to. It’s very well organised. U...\n",
      "24    matteo                    You can open with google sheets\n",
      "25    matteo  This is not as bad as last time but still...wi...\n",
      "26    matteo  I made a mistake. Shouldn’t have aligned the 2...\n",
      "27    matteo  I don’t get it. Did you write back the ranking...\n",
      "28    matteo  Same for ranking. This site needs to be done p...\n",
      "29    matteo  This is so wrong that address is ok program an...\n",
      "30    matteo  Mhhh the data is here. Not sure why it’s not d...\n",
      "31    matteo  Mhhh the data is here. Not sure why it’s not d...\n",
      "32    matteo                    Let me check it should be there\n",
      "\n",
      "[66 rows x 2 columns]\n"
     ]
    }
   ],
   "source": [
    "data = df1.append(df2);\n",
    "print (data)"
   ]
  },
  {
   "cell_type": "code",
   "execution_count": 5,
   "metadata": {},
   "outputs": [
    {
     "data": {
      "text/plain": [
       "MultinomialNB(alpha=1.0, class_prior=None, fit_prior=True)"
      ]
     },
     "execution_count": 5,
     "metadata": {},
     "output_type": "execute_result"
    }
   ],
   "source": [
    "vectorizer = CountVectorizer()\n",
    "counts = vectorizer.fit_transform(data['message'].values)\n",
    "\n",
    "classifier = MultinomialNB()\n",
    "targets = data['class'].values\n",
    "classifier.fit(counts, targets)"
   ]
  },
  {
   "cell_type": "code",
   "execution_count": 6,
   "metadata": {},
   "outputs": [
    {
     "data": {
      "text/plain": [
       "array(['matteo', 'krystyna'], dtype='<U8')"
      ]
     },
     "execution_count": 6,
     "metadata": {},
     "output_type": "execute_result"
    }
   ],
   "source": [
    "examples = ['Free Viagra', \"sex\"]\n",
    "example_counts = vectorizer.transform(examples)\n",
    "predictions = classifier.predict(example_counts)\n",
    "predictions"
   ]
  }
 ],
 "metadata": {
  "kernelspec": {
   "display_name": "Python 3",
   "language": "python",
   "name": "python3"
  },
  "language_info": {
   "codemirror_mode": {
    "name": "ipython",
    "version": 3
   },
   "file_extension": ".py",
   "mimetype": "text/x-python",
   "name": "python",
   "nbconvert_exporter": "python",
   "pygments_lexer": "ipython3",
   "version": "3.7.3"
  }
 },
 "nbformat": 4,
 "nbformat_minor": 2
}
